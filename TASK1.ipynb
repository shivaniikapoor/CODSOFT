{
 "cells": [
  {
   "cell_type": "code",
   "execution_count": 29,
   "id": "441631b3-95c6-4371-afba-8073f426275e",
   "metadata": {},
   "outputs": [
    {
     "name": "stdout",
     "output_type": "stream",
     "text": [
      "BotBud:Hey!It's your virtual bank assistant.How may I help you today?\n",
      "\n",
      " Fields:\n",
      "1. Check your account's Balance\n",
      " 2.Make a deposit\n",
      " 3.Withdraw amount\n",
      " 4.EXIT\n",
      "\n"
     ]
    },
    {
     "name": "stdin",
     "output_type": "stream",
     "text": [
      "BotBud:Enter the field number. 4\n"
     ]
    },
    {
     "name": "stdout",
     "output_type": "stream",
     "text": [
      "BotBud: Quitting the session. Have a nice day!\n"
     ]
    }
   ],
   "source": [
    "class BankBud:\n",
    "    bal=20000\n",
    "    \n",
    "    def __init__(self,bal,amt):\n",
    "        self.bal=bal\n",
    "        self.amt=amt\n",
    "        bal=20000\n",
    "    def deposit(self,amt,bal):\n",
    "        self.bal+=amt\n",
    "        print(\"Your account is credited with $\",amt,\".Your account's current balance is $\",self.bal)\n",
    "    def withdraw(self,amt,bal):\n",
    "        if amt<=self.bal and amt>0:\n",
    "            self.bal-=amt\n",
    "            print(\"Your account is debited with $\",amt,\".Your account's current balance is $\",self.bal,\".If you did not make this transaction,contact you bank.\")\n",
    "        elif amt==0 or amt>self.bal:\n",
    "            print(\"Insufficient Balance.Proceed to deposit the amount? Y/N\")\n",
    "        elif amt<0:\n",
    "            print(\"Enter a valid amount.\")\n",
    "        else:\n",
    "            print(\"An error occured. Please try again later.\") \n",
    "    def check_bal(self,bal):\n",
    "         print(\"Your account's (XXXXXXXXX9868) balance is\",self.bal)\n",
    "\n",
    "bot=BankBud(20000,1000)\n",
    "print(\"BotBud:Hey!It's your virtual bank assistant.How may I help you today?\")\n",
    "while True:\n",
    "     print(\"\\n Fields:\\n1. Check your account's Balance\\n 2.Make a deposit\\n 3.Withdraw amount\\n 4.EXIT\\n\")\n",
    "     \n",
    "     choice=input(\"BotBud:Enter the field number.\")\n",
    "     if choice==\"1\":\n",
    "         print(\"BotBud:\",bot.check_bal(bot.bal))\n",
    "         break\n",
    "     if choice==\"2\":\n",
    "        amt=float(input(\"BotBud:Enter the amount to be deposited\"))\n",
    "        print(\"BotBud:\",bot.deposit(amt,bot.bal))\n",
    "        break\n",
    "     if choice==\"3\":\n",
    "        amt=float(input(\"BotBud:Enter the amount to be withdrawn\"))\n",
    "        print(\"BotBud:\",bot.withdraw(amt,bot.bal))\n",
    "        break\n",
    "         \n",
    "     if choice==\"4\":\n",
    "         print(\"BotBud: Quitting the session. Have a nice day!\")\n",
    "         break\n",
    "     else:\n",
    "         print(\"BotBud:Enter a valid field number\")"
   ]
  },
  {
   "cell_type": "code",
   "execution_count": null,
   "id": "8630312e-033a-4029-84ce-150002ce054e",
   "metadata": {},
   "outputs": [],
   "source": []
  }
 ],
 "metadata": {
  "kernelspec": {
   "display_name": "Python 3 (ipykernel)",
   "language": "python",
   "name": "python3"
  },
  "language_info": {
   "codemirror_mode": {
    "name": "ipython",
    "version": 3
   },
   "file_extension": ".py",
   "mimetype": "text/x-python",
   "name": "python",
   "nbconvert_exporter": "python",
   "pygments_lexer": "ipython3",
   "version": "3.11.7"
  },
  "widgets": {
   "application/vnd.jupyter.widget-state+json": {
    "state": {},
    "version_major": 2,
    "version_minor": 0
   }
  }
 },
 "nbformat": 4,
 "nbformat_minor": 5
}
